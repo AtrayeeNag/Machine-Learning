{
 "cells": [
  {
   "cell_type": "code",
   "execution_count": 863,
   "metadata": {
    "scrolled": false
   },
   "outputs": [],
   "source": [
    "from sklearn.cluster import KMeans\n",
    "import numpy as np\n",
    "import pandas as pd\n",
    "import math\n",
    "import os\n",
    "\n",
    "maxAcc = 0.0\n",
    "maxIter = 0\n",
    "C_Lambda = 0.03\n",
    "TrainingPercent = 80\n",
    "ValidationPercent = 10\n",
    "TestPercent = 10\n",
    "M = 10\n",
    "PHI = []\n",
    "IsSynthetic = False"
   ]
  },
  {
   "cell_type": "code",
   "execution_count": 864,
   "metadata": {},
   "outputs": [],
   "source": [
    "def create_pair_data_concat(df, df_pair):\n",
    "    df.rename(columns={'img_id': 'img_id_A'}, inplace=True)\n",
    "    df_new = pd.merge(df_pair, df, on=\"img_id_A\")\n",
    "    df.rename(columns={'img_id_A': 'img_id_B'}, inplace=True)\n",
    "    df_new = pd.merge(df_new, df, on=\"img_id_B\")\n",
    "    df.rename(columns={'img_id_B': 'img_id'}, inplace=True)\n",
    "    return df_new  "
   ]
  },
  {
   "cell_type": "code",
   "execution_count": 865,
   "metadata": {},
   "outputs": [],
   "source": [
    "def create_pair_data_subtract(df):\n",
    "    for i in range(1,10):\n",
    "        df[[\"f\"+str(i)]] = df[[\"f\"+str(i)+\"_x\"]] - df[[\"f\"+str(i)+\"_y\"]].values\n",
    "    for i in range(1,10):\n",
    "        df = df.drop(columns=[\"f\"+str(i)+\"_x\" , \"f\"+str(i)+\"_y\"], axis=1)\n",
    "    return df"
   ]
  },
  {
   "cell_type": "code",
   "execution_count": 866,
   "metadata": {},
   "outputs": [],
   "source": [
    "def GenerateTrainingTarget(rawTraining,TrainingPercent = 80):\n",
    "    TrainingLen = int(math.ceil(len(rawTraining)*(TrainingPercent*0.01)))\n",
    "    t           = rawTraining[:TrainingLen]\n",
    "    return t\n",
    "\n",
    "def GenerateTrainingDataMatrix(rawData, TrainingPercent = 80):\n",
    "    T_len = int(math.ceil(len(rawData[0])*0.01*TrainingPercent))\n",
    "    d2 = rawData[:,0:T_len]\n",
    "    return d2\n",
    "\n",
    "def GenerateValData(rawData, ValPercent, TrainingCount): \n",
    "    valSize = int(math.ceil(len(rawData[0])*ValPercent*0.01))\n",
    "    V_End = TrainingCount + valSize\n",
    "    dataMatrix = rawData[:,TrainingCount+1:V_End]\n",
    "    return dataMatrix\n",
    "\n",
    "def GenerateValTargetVector(rawData, ValPercent, TrainingCount): \n",
    "    valSize = int(math.ceil(len(rawData)*ValPercent*0.01))\n",
    "    V_End = TrainingCount + valSize\n",
    "    t =rawData[TrainingCount+1:V_End]\n",
    "    return t\n",
    "\n",
    "def GetErms(VAL_TEST_OUT,ValDataAct):\n",
    "    sum = 0.0\n",
    "    t=0\n",
    "    accuracy = 0.0\n",
    "    counter = 0\n",
    "    val = 0.0\n",
    "    for i in range (0,len(VAL_TEST_OUT)):\n",
    "        sum = sum + math.pow((ValDataAct[i] - VAL_TEST_OUT[i]),2)\n",
    "        if(int(np.around(VAL_TEST_OUT[i], 0)) == ValDataAct[i]):\n",
    "            counter+=1\n",
    "    accuracy = (float((counter*100))/float(len(VAL_TEST_OUT)))\n",
    "    return (str(accuracy) + ',' +  str(math.sqrt(sum/len(VAL_TEST_OUT))))"
   ]
  },
  {
   "cell_type": "code",
   "execution_count": 867,
   "metadata": {},
   "outputs": [],
   "source": [
    "def generate_raw_data(df, df_diff, df_same, feature_operation):\n",
    "    df_same_concat = create_pair_data_concat(df, df_same)\n",
    "    df_diff_concat = create_pair_data_concat(df, df_diff)\n",
    "    df_diff_concat = df_diff_concat.sample(n=df_same_concat.shape[0])\n",
    "    df_final = pd.concat([df_same_concat, df_diff_concat])\n",
    "    df_final = df_final.iloc[np.random.permutation(len(df_final))]\n",
    "    if feature_operation == \"Subtract\":\n",
    "        df_final = create_pair_data_subtract(df_final)\n",
    "    df_target = df_final['target']\n",
    "    df_final.drop(['img_id_A','img_id_B','target' ], axis=1, inplace=True)\n",
    "    return df_final, df_target"
   ]
  },
  {
   "cell_type": "code",
   "execution_count": 868,
   "metadata": {},
   "outputs": [],
   "source": [
    "def sigmoid_func(W, X):\n",
    "    return 1.0/(1 + np.exp(-np.dot(X, np.transpose(W))))"
   ]
  },
  {
   "cell_type": "code",
   "execution_count": 869,
   "metadata": {
    "scrolled": true
   },
   "outputs": [],
   "source": [
    "# ------------- Implementation for Stochastic Gradient Descent --------------- #\n",
    "def generate_ERMS(TrainingTarget, TrainingData, ValData, TestData, ValDataAct, TestDataAct, dataType):\n",
    "    if dataType == \"GSC\":\n",
    "        range_loop = 400\n",
    "    else:\n",
    "        range_loop = TrainingTarget.shape[0]\n",
    "    W_Now = np.ones(TrainingData.shape[0])\n",
    "    La           = 2\n",
    "    learningRate = 0.01\n",
    "    L_Erms_Val   = []\n",
    "    L_Erms_TR    = []\n",
    "    L_Erms_Test  = []\n",
    "    W_Mat        = []\n",
    "    \n",
    "    for i in range(0,400):\n",
    "        step1 = sigmoid_func(W_Now, np.transpose(TrainingData))\n",
    "        step2 = np.subtract(step1, TrainingTarget)\n",
    "        Delta_E_D =  np.dot(TrainingData, step2)/TrainingTarget.shape[0]\n",
    "        La_Delta_E_W  = np.dot(La,W_Now)\n",
    "        Delta_E       = np.add(Delta_E_D,La_Delta_E_W) \n",
    "        Delta_W       = -np.dot(learningRate,Delta_E)\n",
    "        W_T_Next      = W_Now + Delta_W\n",
    "        W_Now         = W_T_Next\n",
    "\n",
    "        #-----------------TrainingData Accuracy---------------------#\n",
    "        TR_TEST_OUT   = sigmoid_func(W_T_Next,np.transpose(TrainingData)) \n",
    "        Erms_TR       = GetErms(TR_TEST_OUT,TrainingTarget)\n",
    "        L_Erms_TR.append(float(Erms_TR.split(',')[0]))\n",
    "\n",
    "        #-----------------ValidationData Accuracy---------------------#\n",
    "        VAL_TEST_OUT  = sigmoid_func(W_T_Next,np.transpose(ValData)) \n",
    "        Erms_Val      = GetErms(VAL_TEST_OUT,ValDataAct)\n",
    "        L_Erms_Val.append(float(Erms_Val.split(',')[0]))\n",
    "\n",
    "        #-----------------TestingData Accuracy---------------------#\n",
    "        TEST_OUT      = sigmoid_func(W_T_Next,np.transpose(TestData)) \n",
    "        Erms_Test = GetErms(TEST_OUT,TestDataAct)\n",
    "        L_Erms_Test.append(float(Erms_Test.split(',')[0]))\n",
    "        \n",
    "    print ('----------Gradient Descent Solution--------------------')\n",
    "    print (\"Accuracy Training   = \" + str(np.around(max(L_Erms_TR),5)))\n",
    "    print (\"Accuracy Validation = \" + str(np.around(max(L_Erms_Val),5)))\n",
    "    print (\"Accuracy Testing    = \" + str(np.around(max(L_Erms_Test),5)))  \n",
    "    "
   ]
  },
  {
   "cell_type": "code",
   "execution_count": 870,
   "metadata": {},
   "outputs": [],
   "source": [
    "def train_model(RawData, RawTarget, dataType):\n",
    "    TrainingTarget = np.array(GenerateTrainingTarget(RawTarget,TrainingPercent))\n",
    "    TrainingData   = GenerateTrainingDataMatrix(RawData,TrainingPercent)\n",
    "    \n",
    "    ValDataAct = np.array(GenerateValTargetVector(RawTarget,ValidationPercent, (len(TrainingTarget))))\n",
    "    ValData    = GenerateValData(RawData,ValidationPercent, (len(TrainingTarget)))\n",
    "    \n",
    "    TestDataAct = np.array(GenerateValTargetVector(RawTarget,TestPercent, (len(TrainingTarget)+len(ValDataAct))))\n",
    "    TestData = GenerateValData(RawData,TestPercent, (len(TrainingTarget)+len(ValDataAct)))\n",
    "    \n",
    "    generate_ERMS(TrainingTarget, TrainingData, ValData, TestData, ValDataAct, TestDataAct, dataType)"
   ]
  },
  {
   "cell_type": "code",
   "execution_count": 871,
   "metadata": {},
   "outputs": [
    {
     "name": "stdout",
     "output_type": "stream",
     "text": [
      "-----------------------HOF : Concat--------------------\n"
     ]
    },
    {
     "name": "stderr",
     "output_type": "stream",
     "text": [
      "/Users/atrayeenag/anaconda3/lib/python3.6/site-packages/ipykernel_launcher.py:7: FutureWarning: Method .as_matrix will be removed in a future version. Use .values instead.\n",
      "  import sys\n",
      "/Users/atrayeenag/anaconda3/lib/python3.6/site-packages/ipykernel_launcher.py:8: FutureWarning: Method .as_matrix will be removed in a future version. Use .values instead.\n",
      "  \n"
     ]
    },
    {
     "name": "stdout",
     "output_type": "stream",
     "text": [
      "----------Gradient Descent Solution--------------------\n",
      "Accuracy Training   = 57.109\n",
      "Accuracy Validation = 54.43038\n",
      "Accuracy Testing    = 56.05096\n",
      "-----------------------HOF : Subtract--------------------\n"
     ]
    },
    {
     "name": "stderr",
     "output_type": "stream",
     "text": [
      "/Users/atrayeenag/anaconda3/lib/python3.6/site-packages/ipykernel_launcher.py:13: FutureWarning: Method .as_matrix will be removed in a future version. Use .values instead.\n",
      "  del sys.path[0]\n",
      "/Users/atrayeenag/anaconda3/lib/python3.6/site-packages/ipykernel_launcher.py:14: FutureWarning: Method .as_matrix will be removed in a future version. Use .values instead.\n",
      "  \n"
     ]
    },
    {
     "name": "stdout",
     "output_type": "stream",
     "text": [
      "----------Gradient Descent Solution--------------------\n",
      "Accuracy Training   = 55.60821\n",
      "Accuracy Validation = 50.0\n",
      "Accuracy Testing    = 54.77707\n"
     ]
    }
   ],
   "source": [
    "df_hof = pd.read_csv(\"HOF/HumanObserved-Features-Data.csv\",index_col=0)\n",
    "df_diff_hof = pd.read_csv(\"HOF/diffn_pairs.csv\",index_col=0)\n",
    "df_same_hof = pd.read_csv(\"HOF/same_pairs.csv\",index_col=0)\n",
    "\n",
    "print(\"-----------------------HOF : Concat--------------------\")\n",
    "df_final, df_target = generate_raw_data(df_hof, df_diff_hof, df_same_hof, \"Concat\")\n",
    "RawData = np.transpose(df_final.as_matrix())\n",
    "RawTarget = df_target.as_matrix()\n",
    "train_model(RawData, RawTarget, \"HOF\")\n",
    "\n",
    "print(\"-----------------------HOF : Subtract--------------------\")\n",
    "df_final, df_target = generate_raw_data(df_hof, df_diff_hof, df_same_hof, \"Subtract\")\n",
    "RawData = np.transpose(df_final.as_matrix())\n",
    "RawTarget = df_target.as_matrix()\n",
    "train_model(RawData, RawTarget,\"HOF\")\n",
    "\n",
    "df_gsc = pd.read_csv(\"GSC/GSC-Features.csv\")\n",
    "df_diff_gsc = pd.read_csv(\"GSC/diffn_pairs.csv\")\n",
    "df_same_gsc = pd.read_csv(\"GSC/same_pairs.csv\")\n",
    "\n",
    "print(\"-----------------------GSC : Concat--------------------\")\n",
    "df_final, df_target = generate_raw_data(df_gsc, df_diff_gsc, df_same_gsc, \"Concat\")\n",
    "uniques = df_final.apply(lambda x: x.nunique())\n",
    "df_final = df_final.drop(uniques[uniques==1].index, axis=1)\n",
    "RawData = np.transpose(df_final.as_matrix())\n",
    "RawTarget = df_target.as_matrix()\n",
    "train_model(RawData, RawTarget, \"GSC\")\n",
    "\n",
    "print(\"-----------------------GSC : Subtract--------------------\")\n",
    "df_final, df_target = generate_raw_data(df_gsc, df_diff_gsc, df_same_gsc, \"Subtract\")\n",
    "uniques = df_final.apply(lambda x: x.nunique())\n",
    "df_final = df_final.drop(uniques[uniques==1].index, axis=1)\n",
    "RawData = np.transpose(df_final.as_matrix())\n",
    "RawTarget = df_target.as_matrix()\n",
    "train_model(RawData, RawTarget, \"GSC\")"
   ]
  },
  {
   "cell_type": "code",
   "execution_count": null,
   "metadata": {},
   "outputs": [],
   "source": []
  }
 ],
 "metadata": {
  "kernelspec": {
   "display_name": "Python 3",
   "language": "python",
   "name": "python3"
  },
  "language_info": {
   "codemirror_mode": {
    "name": "ipython",
    "version": 3
   },
   "file_extension": ".py",
   "mimetype": "text/x-python",
   "name": "python",
   "nbconvert_exporter": "python",
   "pygments_lexer": "ipython3",
   "version": "3.6.5"
  }
 },
 "nbformat": 4,
 "nbformat_minor": 2
}
