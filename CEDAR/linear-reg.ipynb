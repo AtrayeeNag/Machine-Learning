{
 "cells": [
  {
   "cell_type": "code",
   "execution_count": 136,
   "metadata": {
    "scrolled": false
   },
   "outputs": [],
   "source": [
    "from sklearn.cluster import KMeans\n",
    "import numpy as np\n",
    "import pandas as pd\n",
    "import math\n",
    "import os\n",
    "\n",
    "maxAcc = 0.0\n",
    "maxIter = 0\n",
    "C_Lambda = 0.03\n",
    "TrainingPercent = 80\n",
    "ValidationPercent = 10\n",
    "TestPercent = 10\n",
    "M = 10\n",
    "PHI = []\n",
    "IsSynthetic = False"
   ]
  },
  {
   "cell_type": "markdown",
   "metadata": {},
   "source": [
    "# Create Pair Data by Concatenating Features"
   ]
  },
  {
   "cell_type": "code",
   "execution_count": 137,
   "metadata": {},
   "outputs": [],
   "source": [
    "# This method takes in the image pair dataset(df_pair) along with the feature dataset(df). \n",
    "# It then joins df with df_pair on image_id_A and image_id_B thus creating a dataframe \n",
    "# with allthe features of image A and image B i.e. 18 features.\n",
    "def create_pair_data_concat(df, df_pair):\n",
    "    df.rename(columns={'img_id': 'img_id_A'}, inplace=True)\n",
    "    df_new = pd.merge(df_pair, df, on=\"img_id_A\")\n",
    "    df.rename(columns={'img_id_A': 'img_id_B'}, inplace=True)\n",
    "    df_new = pd.merge(df_new, df, on=\"img_id_B\")\n",
    "    df.rename(columns={'img_id_B': 'img_id'}, inplace=True)\n",
    "    return df_new  "
   ]
  },
  {
   "cell_type": "markdown",
   "metadata": {},
   "source": [
    "# Create Pair Data by Subtracting Features"
   ]
  },
  {
   "cell_type": "code",
   "execution_count": 138,
   "metadata": {},
   "outputs": [],
   "source": [
    "# This method takes in the image pair dataset(df_final) along with the feature dataset(df). \n",
    "# It then joins df with df_final on image_id_A and image_id_B separately and performs \n",
    "# feature subtraction forming a dataframe consisting of 9 features.\n",
    "def create_pair_data_subtract(df, df_final):\n",
    "    df_target = df_final['target']\n",
    "    df.rename(columns={'img_id': 'img_id_A'}, inplace=True)\n",
    "    df1 = pd.merge(df_final, df, on=\"img_id_A\")\n",
    "    df1.drop(['img_id_A','img_id_B','target' ], axis=1, inplace=True)\n",
    "    df.rename(columns={'img_id_A': 'img_id_B'}, inplace=True)\n",
    "    df2 = pd.merge(df_final, df, on=\"img_id_B\")\n",
    "    df.rename(columns={'img_id_B': 'img_id'}, inplace=True)\n",
    "    df2.drop(['img_id_A','img_id_B','target' ], axis=1, inplace=True)\n",
    "    df_sub = df1.sub(df2)\n",
    "    df_final = np.absolute(df_sub)\n",
    "    return df_final, df_target"
   ]
  },
  {
   "cell_type": "markdown",
   "metadata": {},
   "source": [
    "# Generate Training, Validation data and target"
   ]
  },
  {
   "cell_type": "code",
   "execution_count": 139,
   "metadata": {},
   "outputs": [],
   "source": [
    "# This method accepts the entire training target data and splits it into the valPercent passed into it.\n",
    "def GenerateTrainingTarget(rawTraining,TrainingPercent = 80):\n",
    "    TrainingLen = int(math.ceil(len(rawTraining)*(TrainingPercent*0.01)))\n",
    "    t           = rawTraining[:TrainingLen]\n",
    "    return t\n",
    "\n",
    "# This method accepts the entire training data and splits it into the valPercent passed into it.\n",
    "def GenerateTrainingDataMatrix(rawData, TrainingPercent = 80):\n",
    "    T_len = int(math.ceil(len(rawData[0])*0.01*TrainingPercent))\n",
    "    d2 = rawData[:,0:T_len]\n",
    "    return d2\n",
    "\n",
    "# This method accepts the entire validation data and splits it into the valPercent passed into it.\n",
    "def GenerateValData(rawData, ValPercent, TrainingCount): \n",
    "    valSize = int(math.ceil(len(rawData[0])*ValPercent*0.01))\n",
    "    V_End = TrainingCount + valSize\n",
    "    dataMatrix = rawData[:,TrainingCount+1:V_End]\n",
    "    return dataMatrix\n",
    "\n",
    "# This method accepts the entire validation target data and splits it into the valPercent passed into it.\n",
    "def GenerateValTargetVector(rawData, ValPercent, TrainingCount): \n",
    "    valSize = int(math.ceil(len(rawData)*ValPercent*0.01))\n",
    "    V_End = TrainingCount + valSize\n",
    "    t =rawData[TrainingCount+1:V_End]\n",
    "    return t"
   ]
  },
  {
   "cell_type": "markdown",
   "metadata": {},
   "source": [
    "# Generate Phi Matrix"
   ]
  },
  {
   "cell_type": "code",
   "execution_count": 140,
   "metadata": {},
   "outputs": [],
   "source": [
    "def GenerateBigSigma(Data, MuMatrix,TrainingPercent,IsSynthetic):\n",
    "    BigSigma    = np.zeros((len(Data),len(Data)))\n",
    "    DataT       = np.transpose(Data)\n",
    "    TrainingLen = math.ceil(len(DataT)*(TrainingPercent*0.01))        \n",
    "    varVect     = []\n",
    "    for i in range(0,len(DataT[0])):\n",
    "        vct = []\n",
    "        for j in range(0,int(TrainingLen)):\n",
    "            vct.append(Data[i][j])    \n",
    "        varVect.append(np.var(vct))\n",
    "    for j in range(len(Data)):\n",
    "        BigSigma[j][j] = varVect[j]\n",
    "    if IsSynthetic == True:\n",
    "        BigSigma = np.dot(3,BigSigma)\n",
    "    else:\n",
    "        BigSigma = np.dot(200,BigSigma)\n",
    "    print (\"BigSigma Generated..\")\n",
    "    return BigSigma\n",
    "\n",
    "def GetScalar(DataRow,MuRow, BigSigInv):  \n",
    "    R = np.subtract(DataRow,MuRow)\n",
    "    T = np.dot(BigSigInv,np.transpose(R))  \n",
    "    L = np.dot(R,T)\n",
    "    return L\n",
    "\n",
    "def GetRadialBasisOut(DataRow,MuRow, BigSigInv):    \n",
    "    phi_x = math.exp(-0.5*GetScalar(DataRow,MuRow,BigSigInv))\n",
    "    return phi_x\n",
    "\n",
    "def GetPhiMatrix(Data, MuMatrix, BigSigma, TrainingPercent = 80):\n",
    "    DataT = np.transpose(Data) \n",
    "    TrainingLen = math.ceil(len(DataT)*(TrainingPercent*0.01)) \n",
    "    PHI = np.zeros((int(TrainingLen),len(MuMatrix)))\n",
    "    BigSigInv = np.linalg.pinv(BigSigma) \n",
    "    for  C in range(0,len(MuMatrix)):\n",
    "        for R in range(0,int(TrainingLen)):\n",
    "            PHI[R][C] = GetRadialBasisOut(DataT[R], MuMatrix[C], BigSigInv)\n",
    "    return PHI\n",
    "\n",
    "def GetValTest(VAL_PHI,W):\n",
    "    Y = np.dot(W,np.transpose(VAL_PHI))\n",
    "    return Y\n",
    "\n",
    "def GetErms(VAL_TEST_OUT,ValDataAct):\n",
    "    sum = 0.0\n",
    "    t=0\n",
    "    accuracy = 0.0\n",
    "    counter = 0\n",
    "    val = 0.0\n",
    "    for i in range (0,len(VAL_TEST_OUT)):\n",
    "        sum = sum + math.pow((ValDataAct[i] - VAL_TEST_OUT[i]),2)\n",
    "        if(int(np.around(VAL_TEST_OUT[i], 0)) == ValDataAct[i]):\n",
    "            counter+=1\n",
    "    accuracy = (float((counter*100))/float(len(VAL_TEST_OUT)))\n",
    "    return (str(accuracy) + ',' +  str(math.sqrt(sum/len(VAL_TEST_OUT))))"
   ]
  },
  {
   "cell_type": "markdown",
   "metadata": {},
   "source": [
    "# Generate Raw Data"
   ]
  },
  {
   "cell_type": "code",
   "execution_count": 141,
   "metadata": {},
   "outputs": [],
   "source": [
    "# This method takes in the feature data(df), the same pairs and different pairs to create the \n",
    "# feature concat and subtract dataset. For both operations, we select the same number of same \n",
    "# and different pair datasets and append the rows and randomize the dataset. We merge the \n",
    "# dataframes to concat/subtract the features and remove the columns where the feature \n",
    "# values accross the dataset iszero or variance is zero.\n",
    "def generate_raw_data(df, df_diff, df_same, feature_operation, dataType):\n",
    "    if feature_operation == \"Concat\":\n",
    "        df_diff = df_diff.sample(n=df_same.shape[0])\n",
    "        df_final = pd.concat([df_same, df_diff]).sample(frac=1).reset_index(drop=True)\n",
    "        df_final = create_pair_data_concat(df, df_final)\n",
    "        df_target = df_final['target']\n",
    "        df_final.drop(['img_id_A','img_id_B','target' ], axis=1, inplace=True)\n",
    "    if feature_operation == \"Subtract\":\n",
    "        df_diff = df_diff.sample(n=df_same.shape[0])\n",
    "        df_final = pd.concat([df_same, df_diff]).sample(frac=1).reset_index(drop=True)\n",
    "        df_final, df_target = create_pair_data_subtract(df, df_final)\n",
    "    uniques = df_final.apply(lambda x: x.nunique())\n",
    "    df_final = df_final.drop(uniques[uniques==1].index, axis=1)\n",
    "    return df_final, df_target   "
   ]
  },
  {
   "cell_type": "markdown",
   "metadata": {},
   "source": [
    "# Perform Stochastic Gradient Descent"
   ]
  },
  {
   "cell_type": "code",
   "execution_count": 142,
   "metadata": {
    "scrolled": true
   },
   "outputs": [],
   "source": [
    "# ------------- Implementation for Stochastic Gradient Descent --------------- #\n",
    "# we randomize the weights by multiplying a scalar value with the weights obtained from the closed form solution.\n",
    "def generate_ERMS(TrainingTarget, TRAINING_PHI, VAL_PHI, TEST_PHI, ValDataAct, TestDataAct, dataType):\n",
    "    if dataType == \"GSC\":\n",
    "        range_loop = 200\n",
    "    else:\n",
    "        range_loop = TrainingTarget.shape[0]\n",
    "    W_Now = np.ones(M)\n",
    "    La           = 2\n",
    "    learningRate = 0.01\n",
    "    L_Erms_Val   = []\n",
    "    L_Erms_TR    = []\n",
    "    L_Erms_Test  = []\n",
    "    W_Mat        = []\n",
    "    print(TRAINING_PHI[0].shape)\n",
    "    for i in range(0,range_loop):\n",
    "        \n",
    "        Delta_E_D     = -np.dot((TrainingTarget[i] - np.dot(np.transpose(W_Now),TRAINING_PHI[i])),TRAINING_PHI[i])\n",
    "        La_Delta_E_W  = np.dot(La,W_Now)\n",
    "        Delta_E       = np.add(Delta_E_D,La_Delta_E_W)    \n",
    "        Delta_W       = -np.dot(learningRate,Delta_E)\n",
    "        W_T_Next      = W_Now + Delta_W\n",
    "        W_Now         = W_T_Next\n",
    "        \n",
    "        #-----------------TrainingData Accuracy---------------------#\n",
    "        TR_TEST_OUT   = GetValTest(TRAINING_PHI,W_T_Next) \n",
    "        Erms_TR       = GetErms(TR_TEST_OUT,TrainingTarget)\n",
    "        L_Erms_TR.append(float(Erms_TR.split(',')[1]))\n",
    "\n",
    "        #-----------------ValidationData Accuracy---------------------#\n",
    "        VAL_TEST_OUT  = GetValTest(VAL_PHI,W_T_Next) \n",
    "        Erms_Val      = GetErms(VAL_TEST_OUT,ValDataAct)\n",
    "        L_Erms_Val.append(float(Erms_Val.split(',')[1]))\n",
    "\n",
    "        #-----------------TestingData Accuracy---------------------#\n",
    "        TEST_OUT      = GetValTest(TEST_PHI,W_T_Next) \n",
    "        Erms_Test = GetErms(TEST_OUT,TestDataAct)\n",
    "        L_Erms_Test.append(float(Erms_Test.split(',')[1]))\n",
    "        \n",
    "    print ('----------Gradient Descent Solution--------------------')\n",
    "    print (\"E_rms Training   = \" + str(np.around(min(L_Erms_TR),5)))\n",
    "    print (\"E_rms Validation = \" + str(np.around(min(L_Erms_Val),5)))\n",
    "    print (\"E_rms Testing    = \" + str(np.around(min(L_Erms_Test),5)))     "
   ]
  },
  {
   "cell_type": "markdown",
   "metadata": {},
   "source": [
    "# Clustering and Training Model"
   ]
  },
  {
   "cell_type": "code",
   "execution_count": 143,
   "metadata": {},
   "outputs": [],
   "source": [
    "def train_model(RawData, RawTarget, dataType):\n",
    "    # Create the training dataset and target data with 80% of the raw dataset\n",
    "    TrainingTarget = np.array(GenerateTrainingTarget(RawTarget,TrainingPercent))\n",
    "    TrainingData   = GenerateTrainingDataMatrix(RawData,TrainingPercent)\n",
    "    \n",
    "    # Create the validation dataset and target data with 10% of the raw dataset\n",
    "    ValDataAct = np.array(GenerateValTargetVector(RawTarget,ValidationPercent, (len(TrainingTarget))))\n",
    "    ValData    = GenerateValData(RawData,ValidationPercent, (len(TrainingTarget)))\n",
    "    \n",
    "    # Create the testing dataset and target data with 10% of the raw dataset\n",
    "    TestDataAct = np.array(GenerateValTargetVector(RawTarget,TestPercent, (len(TrainingTarget)+len(ValDataAct))))\n",
    "    TestData = GenerateValData(RawData,TestPercent, (len(TrainingTarget)+len(ValDataAct)))\n",
    "    \n",
    "    ErmsArr = []\n",
    "    AccuracyArr = []\n",
    "    kmeans = KMeans(n_clusters=M, random_state=0).fit(np.transpose(TrainingData))\n",
    "    Mu = kmeans.cluster_centers_\n",
    "    BigSigma     = GenerateBigSigma(RawData, Mu, TrainingPercent,IsSynthetic)\n",
    "    TRAINING_PHI = GetPhiMatrix(RawData, Mu, BigSigma, TrainingPercent)\n",
    "    TEST_PHI     = GetPhiMatrix(TestData, Mu, BigSigma, 100) \n",
    "    VAL_PHI      = GetPhiMatrix(ValData, Mu, BigSigma, 100)\n",
    "    \n",
    "    generate_ERMS(TrainingTarget, TRAINING_PHI, VAL_PHI, TEST_PHI, ValDataAct, TestDataAct, dataType)"
   ]
  },
  {
   "cell_type": "code",
   "execution_count": 144,
   "metadata": {},
   "outputs": [
    {
     "name": "stdout",
     "output_type": "stream",
     "text": [
      "-----------------------HOF : Concat--------------------\n",
      "BigSigma Generated..\n"
     ]
    },
    {
     "name": "stderr",
     "output_type": "stream",
     "text": [
      "/Users/atrayeenag/anaconda3/lib/python3.6/site-packages/ipykernel_launcher.py:7: FutureWarning: Method .as_matrix will be removed in a future version. Use .values instead.\n",
      "  import sys\n",
      "/Users/atrayeenag/anaconda3/lib/python3.6/site-packages/ipykernel_launcher.py:8: FutureWarning: Method .as_matrix will be removed in a future version. Use .values instead.\n",
      "  \n"
     ]
    },
    {
     "name": "stdout",
     "output_type": "stream",
     "text": [
      "(10,)\n",
      "----------Gradient Descent Solution--------------------\n",
      "E_rms Training   = 0.49934\n",
      "E_rms Validation = 0.4988\n",
      "E_rms Testing    = 0.49423\n"
     ]
    }
   ],
   "source": [
    "df_hof = pd.read_csv(\"HOF/HumanObserved-Features-Data.csv\",index_col=0)\n",
    "df_diff_hof = pd.read_csv(\"HOF/diffn_pairs.csv\")\n",
    "df_same_hof = pd.read_csv(\"HOF/same_pairs.csv\")\n",
    "\n",
    "print(\"-----------------------HOF : Concat--------------------\")\n",
    "df_final, df_target = generate_raw_data(df_hof, df_diff_hof, df_same_hof, \"Concat\", \"HOF\")\n",
    "RawData = np.transpose(df_final.as_matrix())\n",
    "RawTarget = df_target.as_matrix()\n",
    "train_model(RawData, RawTarget, \"HOF\")\n",
    "\n",
    "print(\"-----------------------HOF : Subtract-----------------------\")\n",
    "df_final, df_target = generate_raw_data(df_hof, df_diff_hof, df_same_hof, \"Subtract\", \"HOF\")\n",
    "RawData = np.transpose(df_final.as_matrix())\n",
    "RawTarget = df_target.as_matrix()\n",
    "train_model(RawData, RawTarget, \"HOF\")\n",
    "\n",
    "df_gsc = pd.read_csv(\"GSC/GSC-Features.csv\")\n",
    "df_diff_gsc = pd.read_csv(\"GSC/diffn_pairs.csv\")\n",
    "df_same_gsc = pd.read_csv(\"GSC/same_pairs.csv\")\n",
    "\n",
    "print(\"-----------------------GSC : Concat-----------------------\")\n",
    "df_final, df_target = generate_raw_data(df_gsc, df_diff_gsc, df_same_gsc, \"Concat\", \"GSC\")\n",
    "RawData = np.transpose(df_final.as_matrix())\n",
    "RawTarget = df_target.as_matrix()\n",
    "train_model(RawData, RawTarget, \"GSC\")\n",
    "\n",
    "print(\"-----------------------GSC : Subtract-----------------------\")\n",
    "df_final, df_target = generate_raw_data(df_gsc, df_diff_gsc, df_same_gsc, \"Subtract\", \"GSC\")\n",
    "RawData = np.transpose(df_final.as_matrix())\n",
    "RawTarget = df_target.as_matrix()\n",
    "train_model(RawData, RawTarget, \"GSC\")"
   ]
  },
  {
   "cell_type": "code",
   "execution_count": null,
   "metadata": {},
   "outputs": [],
   "source": []
  },
  {
   "cell_type": "code",
   "execution_count": null,
   "metadata": {},
   "outputs": [],
   "source": []
  }
 ],
 "metadata": {
  "kernelspec": {
   "display_name": "Python 3",
   "language": "python",
   "name": "python3"
  },
  "language_info": {
   "codemirror_mode": {
    "name": "ipython",
    "version": 3
   },
   "file_extension": ".py",
   "mimetype": "text/x-python",
   "name": "python",
   "nbconvert_exporter": "python",
   "pygments_lexer": "ipython3",
   "version": "3.6.5"
  }
 },
 "nbformat": 4,
 "nbformat_minor": 2
}
